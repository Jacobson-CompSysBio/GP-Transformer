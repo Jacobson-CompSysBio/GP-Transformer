{
 "cells": [
  {
   "cell_type": "markdown",
   "metadata": {},
   "source": [
    "# Setup"
   ]
  },
  {
   "cell_type": "code",
   "execution_count": 3,
   "metadata": {},
   "outputs": [],
   "source": [
    "# import packages\n",
    "import sys, os, glob\n",
    "import torch\n",
    "import torch.nn as nn\n",
    "import torch.nn.functional as F\n",
    "import numpy as np\n",
    "import pandas as pd\n",
    "\n",
    "from torch.utils.data import DataLoader, Dataset\n",
    "\n",
    "from DGXutils import GetFileNames, GetLowestGPU\n",
    "from importlib import reload\n",
    "from tqdm.auto import tqdm\n",
    "from IPython.display import clear_output\n",
    "\n",
    "sys.path.append('../')\n",
    "\n",
    "from utils.dataset import *\n",
    "from utils.model import *\n",
    "from utils.GetLR import get_lr\n",
    "\n",
    "device = GetLowestGPU()"
   ]
  },
  {
   "cell_type": "code",
   "execution_count": 4,
   "metadata": {},
   "outputs": [],
   "source": [
    "# load datasets\n",
    "gxe_train = G_Dataset(split='train')\n",
    "gxe_val = G_Dataset(split='val')"
   ]
  },
  {
   "cell_type": "code",
   "execution_count": null,
   "metadata": {},
   "outputs": [],
   "source": [
    "model = GxE_Transformer(config=TransformerConfig).to(device)"
   ]
  },
  {
   "cell_type": "markdown",
   "metadata": {},
   "source": [
    "# Training"
   ]
  },
  {
   "cell_type": "code",
   "execution_count": null,
   "metadata": {},
   "outputs": [],
   "source": [
    "# set up optimizers, loss function, and scheduler\n",
    "optimizer = torch.optim.Adam(model.parameters(), lr=1e-4)\n",
    "def rmse_loss(y_pred, y_true):\n",
    "    return torch.sqrt(F.mse_loss(y_pred, y_true))\n",
    "loss_function = rmse_loss"
   ]
  },
  {
   "cell_type": "code",
   "execution_count": null,
   "metadata": {},
   "outputs": [],
   "source": [
    "# paths\n",
    "log_path = '../logs/gxe_model/log.txt'\n",
    "chckpnt_path = '../checkpoints/gxe_model/checkpoint_{0}.pt'\n",
    "\n",
    "# dataloaders\n",
    "# shuffle dataloaders\n",
    "train_loader = DataLoader(\n",
    "    gxe_train, \n",
    "    batch_size=64, \n",
    "    shuffle=True,\n",
    "    num_workers=64,\n",
    "    pin_memory=True)\n",
    "\n",
    "val_loader = DataLoader(\n",
    "    gxe_val, \n",
    "    batch_size=64, \n",
    "    shuffle=True,\n",
    "    num_workers=64,\n",
    "    pin_memory=True)\n",
    "\n",
    "# epochs\n",
    "num_epochs = 100\n",
    "batches_per_epoch = len(train_loader)\n",
    "num_iters = num_epochs * batches_per_epoch\n",
    "\n",
    "# other options\n",
    "batches_per_eval = len(val_loader)\n",
    "warmup_iters = batches_per_epoch\n",
    "lr_decay_iters = num_iters\n",
    "max_lr = 1e-3\n",
    "min_lr = 1e-7\n",
    "max_iters = num_iters\n",
    "log_interval = 1\n",
    "eval_interval = batches_per_epoch\n",
    "early_stop = 10"
   ]
  },
  {
   "cell_type": "code",
   "execution_count": null,
   "metadata": {},
   "outputs": [],
   "source": [
    "# paths\n",
    "log_path = '../logs/gxe_model/log.txt'\n",
    "chckpnt_path = '../checkpoints/gxe_model/checkpoint_{0}.pt'\n",
    "\n",
    "# dataloaders\n",
    "# shuffle dataloaders\n",
    "train_loader = DataLoader(\n",
    "    gxe_train, \n",
    "    batch_size=64, \n",
    "    shuffle=True,\n",
    "    num_workers=64,\n",
    "    pin_memory=True)\n",
    "\n",
    "val_loader = DataLoader(\n",
    "    gxe_val, \n",
    "    batch_size=64, \n",
    "    shuffle=True,\n",
    "    num_workers=64,\n",
    "    pin_memory=True)\n",
    "\n",
    "# epochs\n",
    "num_epochs = 100\n",
    "batches_per_epoch = len(train_loader)\n",
    "num_iters = num_epochs * batches_per_epoch\n",
    "\n",
    "# other options\n",
    "batches_per_eval = len(val_loader)\n",
    "warmup_iters = batches_per_epoch\n",
    "lr_decay_iters = num_iters\n",
    "max_lr = 1e-3\n",
    "min_lr = 1e-7\n",
    "max_iters = num_iters\n",
    "log_interval = 1\n",
    "eval_interval = batches_per_epoch\n",
    "early_stop = 10"
   ]
  }
 ],
 "metadata": {
  "kernelspec": {
   "display_name": "gp-transformer",
   "language": "python",
   "name": "python3"
  },
  "language_info": {
   "codemirror_mode": {
    "name": "ipython",
    "version": 3
   },
   "file_extension": ".py",
   "mimetype": "text/x-python",
   "name": "python",
   "nbconvert_exporter": "python",
   "pygments_lexer": "ipython3",
   "version": "3.12.7"
  }
 },
 "nbformat": 4,
 "nbformat_minor": 2
}
