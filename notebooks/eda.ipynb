{
 "cells": [
  {
   "cell_type": "code",
   "execution_count": 1,
   "metadata": {},
   "outputs": [],
   "source": [
    "# imports \n",
    "import numpy as np\n",
    "import pandas as pd\n",
    "import torch\n",
    "import matplotlib.pyplot as plt\n",
    "import seaborn as sns\n",
    "from tqdm.notebook import tqdm"
   ]
  },
  {
   "cell_type": "code",
   "execution_count": 2,
   "metadata": {},
   "outputs": [],
   "source": [
    "# load data\n",
    "base_path = '../data/maize_data_2014-2022_vs_2023_v2/'\n",
    "X_train = pd.read_csv(base_path + 'X_train.csv', index_col=0).reset_index(drop=True)\n",
    "X_test = pd.read_csv(base_path + 'X_test.csv', index_col=0).reset_index(drop=True)\n",
    "y_train = pd.read_csv(base_path + 'y_train.csv', index_col=0).reset_index(drop=True)\n",
    "y_test = pd.read_csv(base_path + 'y_test.csv', index_col=0).reset_index(drop=True)"
   ]
  },
  {
   "cell_type": "code",
   "execution_count": 3,
   "metadata": {},
   "outputs": [],
   "source": [
    "g_train = X_train.iloc[:, :2240]\n",
    "e_train = X_train.iloc[:, 2240:]\n",
    "g_test = X_test.iloc[:, :2240]\n",
    "e_test = X_test.iloc[:, 2240:]"
   ]
  },
  {
   "cell_type": "code",
   "execution_count": 4,
   "metadata": {},
   "outputs": [
    {
     "name": "stdout",
     "output_type": "stream",
     "text": [
      "NAs 0\n",
      "NAs 0\n",
      "NAs 0\n",
      "NAs 0\n",
      "NAs 0\n",
      "NAs 0\n"
     ]
    }
   ],
   "source": [
    "# count na vals\n",
    "names = [g_train, e_train, g_test, e_test, y_train, y_test]\n",
    "for name in names:\n",
    "    nas = name.isna().sum().sum()\n",
    "    print(f'NAs {nas}')"
   ]
  },
  {
   "cell_type": "code",
   "execution_count": 5,
   "metadata": {},
   "outputs": [
    {
     "name": "stdout",
     "output_type": "stream",
     "text": [
      "Zeros 8369224\n",
      "Proportion 0.18748464085118483\n",
      "Zeros 1189255\n",
      "Proportion 0.18920779502609522\n",
      "Zeros 0\n",
      "Proportion 0.0\n",
      "Zeros 0\n",
      "Proportion 0.0\n"
     ]
    }
   ],
   "source": [
    "# count 0 vals/proportions (exclude g data)\n",
    "names = [e_train, e_test, y_train, y_test]\n",
    "for name in names:\n",
    "    zeros = (name == 0).sum().sum()\n",
    "    print(f'Zeros {zeros}')\n",
    "    print(f'Proportion {zeros / name.size}')"
   ]
  },
  {
   "cell_type": "code",
   "execution_count": 6,
   "metadata": {},
   "outputs": [
    {
     "data": {
      "image/png": "[encoded data removed]",
      "text/plain": [
       "<Figure size 1000x500 with 2 Axes>"
      ]
     },
     "metadata": {},
     "output_type": "display_data"
    }
   ],
   "source": [
    "# distribution of ys\n",
    "fig, ax = plt.subplots(1, 2, figsize=(10, 5))\n",
    "ax[0].hist(y_train, bins=50)\n",
    "ax[0].set_title('Train')\n",
    "ax[1].hist(y_test, bins=50)\n",
    "ax[1].set_title('Test')\n",
    "plt.show()"
   ]
  },
  {
   "cell_type": "code",
   "execution_count": 7,
   "metadata": {},
   "outputs": [
    {
     "data": {
      "application/vnd.jupyter.widget-view+json": {
       "model_id": "17bafc9f2c2e4bbbb7561648e30fdd1c",
       "version_major": 2,
       "version_minor": 0
      },
      "text/plain": [
       "  0%|          | 0/374 [00:00<?, ?it/s]"
      ]
     },
     "metadata": {},
     "output_type": "display_data"
    }
   ],
   "source": [
    "from scipy.stats import entropy, ks_2samp\n",
    "\n",
    "# compare distribution of e data with kolmogorov smirnov test\n",
    "for i in tqdm(range(len(e_train.columns))):\n",
    "    # get KLD\n",
    "    ks = ks_2samp(e_train.iloc[:, i], e_test.iloc[:, i])\n",
    "    if ks.pvalue > 0.05:\n",
    "        print(f'Column: {e_train.columns[i]}')\n",
    "        print(f'KS p-value: {ks.pvalue}')\n",
    "        fig, ax = plt.subplots(1, 2, figsize=(10, 5), sharex=True)\n",
    "        ax[0].hist(e_train.iloc[:, i], bins=50)\n",
    "        ax[0].set_title('Train')\n",
    "        ax[1].hist(e_test.iloc[:, i], bins=50)\n",
    "        ax[1].set_title('Test')\n",
    "        plt.show()"
   ]
  },
  {
   "cell_type": "code",
   "execution_count": 8,
   "metadata": {},
   "outputs": [],
   "source": [
    "# # plot dists\n",
    "# for i in tqdm(range(len(e_train.columns))):\n",
    "#     print(f'Column: {e_train.columns[i]}')\n",
    "#     fig, ax = plt.subplots(1, 2, figsize=(10, 5), sharex=True)\n",
    "#     ax[0].hist(e_train.iloc[:, i])\n",
    "#     ax[0].set_title('Train')\n",
    "#     ax[1].hist(e_test.iloc[:, i])\n",
    "#     ax[1].set_title('Test')\n",
    "#     plt.show()"
   ]
  },
  {
   "cell_type": "code",
   "execution_count": 10,
   "metadata": {},
   "outputs": [
    {
     "data": {
      "application/vnd.jupyter.widget-view+json": {
       "model_id": "1fa1bf541b7c41ad821202db0c7e9c23",
       "version_major": 2,
       "version_minor": 0
      },
      "text/plain": [
       "  0%|          | 0/374 [00:00<?, ?it/s]"
      ]
     },
     "metadata": {},
     "output_type": "display_data"
    }
   ],
   "source": [
    "# scale data and plot again\n",
    "from sklearn.preprocessing import StandardScaler\n",
    "scaler = StandardScaler()\n",
    "e_train_scaled = scaler.fit_transform(e_train)\n",
    "e_test_scaled = scaler.transform(e_test)\n",
    "# compare distribution of e data with kolmogorov smirnov test\n",
    "for i in tqdm(range(len(e_train.columns))):\n",
    "    # get KLD\n",
    "    ks = ks_2samp(e_train_scaled[:, i], e_test_scaled[:, i])\n",
    "    if ks.pvalue > 0.05:\n",
    "        print(f'Column: {e_train.columns[i]}')\n",
    "        print(f'KS p-value: {ks.pvalue}')\n",
    "        fig, ax = plt.subplots(1, 2, figsize=(10, 5), sharex=True)\n",
    "        ax[0].hist(e_train_scaled[:, i])\n",
    "        ax[0].set_title('Train')\n",
    "        ax[1].hist(e_test_scaled[:, i])\n",
    "        ax[1].set_title('Test')\n",
    "        plt.show()"
   ]
  }
 ],
 "metadata": {
  "kernelspec": {
   "display_name": "gp-transformer",
   "language": "python",
   "name": "python3"
  },
  "language_info": {
   "codemirror_mode": {
    "name": "ipython",
    "version": 3
   },
   "file_extension": ".py",
   "mimetype": "text/x-python",
   "name": "python",
   "nbconvert_exporter": "python",
   "pygments_lexer": "ipython3",
   "version": "3.12.7"
  }
 },
 "nbformat": 4,
 "nbformat_minor": 2
}
