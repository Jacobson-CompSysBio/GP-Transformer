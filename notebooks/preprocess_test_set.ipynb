{
 "cells": [
  {
   "cell_type": "code",
   "execution_count": 1,
   "id": "31a759a7",
   "metadata": {},
   "outputs": [],
   "source": [
    "import os, sys, glob\n",
    "import pandas as pd\n",
    "import numpy as np\n",
    "import matplotlib.pyplot as plt\n",
    "\n",
    "sys.path.append('../')"
   ]
  },
  {
   "cell_type": "code",
   "execution_count": 10,
   "id": "b27abdcd",
   "metadata": {},
   "outputs": [
    {
     "data": {
      "text/plain": [
       "((9486, 2602), (9486, 4))"
      ]
     },
     "execution_count": 10,
     "metadata": {},
     "output_type": "execute_result"
    }
   ],
   "source": [
    "# load X_test, y_test\n",
    "X_test = pd.read_csv('../data/maize_data_2014-2023_vs_2024/X_test.csv')\n",
    "y_test = pd.read_csv('../data/maize_data_2014-2023_vs_2024/y_test.csv')\n",
    "X_test.shape, y_test.shape"
   ]
  },
  {
   "cell_type": "code",
   "execution_count": 11,
   "id": "dc4bbce7",
   "metadata": {},
   "outputs": [
    {
     "data": {
      "text/plain": [
       "((9486, 2602), (9486, 4))"
      ]
     },
     "execution_count": 11,
     "metadata": {},
     "output_type": "execute_result"
    }
   ],
   "source": [
    "# drop Env, Hybrid combinations that don't occur in both X_test and y_test\n",
    "X_test = X_test.merge(y_test[['Env', 'Hybrid']].drop_duplicates(), on=['Env', 'Hybrid'], how='inner')\n",
    "y_test = y_test.merge(X_test[['Env', 'Hybrid']].drop_duplicates(), on=['Env', 'Hybrid'], how='inner')\n",
    "X_test.shape, y_test.shape"
   ]
  },
  {
   "cell_type": "code",
   "execution_count": 12,
   "id": "93b72355",
   "metadata": {},
   "outputs": [
    {
     "name": "stdout",
     "output_type": "stream",
     "text": [
      "(9486, 2602) (9486, 4)\n"
     ]
    },
    {
     "data": {
      "text/plain": [
       "True"
      ]
     },
     "execution_count": 12,
     "metadata": {},
     "output_type": "execute_result"
    }
   ],
   "source": [
    "# make sure rows of X_test and y_test are aligned along Env, Hybrid\n",
    "X_test = X_test.sort_values(['Env', 'Hybrid']).reset_index(drop=True)\n",
    "y_test = y_test.sort_values(['Env', 'Hybrid']).reset_index(drop=True)\n",
    "print(X_test.shape, y_test.shape)\n",
    "(X_test['Env'] == y_test['Env']).all()"
   ]
  },
  {
   "cell_type": "code",
   "execution_count": 13,
   "id": "1eae74a9",
   "metadata": {},
   "outputs": [
    {
     "name": "stdout",
     "output_type": "stream",
     "text": [
      "Yield_Mg_ha    9486\n",
      "dtype: int64\n",
      "Series([], dtype: int64)\n"
     ]
    }
   ],
   "source": [
    "# check which X, y cols have missing values. Don't print values < 1\n",
    "print(X_test.isnull().sum()[X_test.isnull().sum() > 0])\n",
    "print(y_test.isnull().sum()[y_test.isnull().sum() > 0])"
   ]
  },
  {
   "cell_type": "code",
   "execution_count": null,
   "id": "2d6b3653",
   "metadata": {},
   "outputs": [
    {
     "data": {
      "text/html": [
       "<div>\n",
       "<style scoped>\n",
       "    .dataframe tbody tr th:only-of-type {\n",
       "        vertical-align: middle;\n",
       "    }\n",
       "\n",
       "    .dataframe tbody tr th {\n",
       "        vertical-align: top;\n",
       "    }\n",
       "\n",
       "    .dataframe thead th {\n",
       "        text-align: right;\n",
       "    }\n",
       "</style>\n",
       "<table border=\"1\" class=\"dataframe\">\n",
       "  <thead>\n",
       "    <tr style=\"text-align: right;\">\n",
       "      <th></th>\n",
       "      <th>INDEX</th>\n",
       "      <th>Env</th>\n",
       "      <th>Hybrid</th>\n",
       "      <th>Yield_Mg_ha</th>\n",
       "      <th>S1_1007742</th>\n",
       "      <th>S1_1020677</th>\n",
       "      <th>S1_2018002</th>\n",
       "      <th>S1_2275970</th>\n",
       "      <th>S1_2800964</th>\n",
       "      <th>S1_2811950</th>\n",
       "      <th>...</th>\n",
       "      <th>SWmm_pFlaFlw_5</th>\n",
       "      <th>SWmm_pEnGMat_8</th>\n",
       "      <th>SWmm_pEmeEnJ_9</th>\n",
       "      <th>SWmm_pEmeEnJ_10</th>\n",
       "      <th>SWmm_pEnGMat_10</th>\n",
       "      <th>LL__1</th>\n",
       "      <th>LL__4</th>\n",
       "      <th>LL__6</th>\n",
       "      <th>LL__7</th>\n",
       "      <th>LL__8</th>\n",
       "    </tr>\n",
       "  </thead>\n",
       "  <tbody>\n",
       "    <tr>\n",
       "      <th>0</th>\n",
       "      <td>0</td>\n",
       "      <td>DEH1_2024</td>\n",
       "      <td>01CSI6/LH287</td>\n",
       "      <td>NaN</td>\n",
       "      <td>0.5</td>\n",
       "      <td>1.0</td>\n",
       "      <td>1.0</td>\n",
       "      <td>1.0</td>\n",
       "      <td>1.0</td>\n",
       "      <td>1.0</td>\n",
       "      <td>...</td>\n",
       "      <td>0.114556</td>\n",
       "      <td>0.266661</td>\n",
       "      <td>0.270514</td>\n",
       "      <td>0.390527</td>\n",
       "      <td>0.390527</td>\n",
       "      <td>0.030565</td>\n",
       "      <td>0.030269</td>\n",
       "      <td>0.069334</td>\n",
       "      <td>0.179364</td>\n",
       "      <td>0.179364</td>\n",
       "    </tr>\n",
       "    <tr>\n",
       "      <th>1</th>\n",
       "      <td>1</td>\n",
       "      <td>DEH1_2024</td>\n",
       "      <td>01DIB2/LH287</td>\n",
       "      <td>NaN</td>\n",
       "      <td>1.0</td>\n",
       "      <td>1.0</td>\n",
       "      <td>1.0</td>\n",
       "      <td>1.0</td>\n",
       "      <td>0.5</td>\n",
       "      <td>0.5</td>\n",
       "      <td>...</td>\n",
       "      <td>0.114556</td>\n",
       "      <td>0.266661</td>\n",
       "      <td>0.270514</td>\n",
       "      <td>0.390527</td>\n",
       "      <td>0.390527</td>\n",
       "      <td>0.030565</td>\n",
       "      <td>0.030269</td>\n",
       "      <td>0.069334</td>\n",
       "      <td>0.179364</td>\n",
       "      <td>0.179364</td>\n",
       "    </tr>\n",
       "    <tr>\n",
       "      <th>2</th>\n",
       "      <td>2</td>\n",
       "      <td>DEH1_2024</td>\n",
       "      <td>01DIB2/PHP02</td>\n",
       "      <td>NaN</td>\n",
       "      <td>1.0</td>\n",
       "      <td>0.5</td>\n",
       "      <td>0.5</td>\n",
       "      <td>1.0</td>\n",
       "      <td>0.0</td>\n",
       "      <td>0.0</td>\n",
       "      <td>...</td>\n",
       "      <td>0.114556</td>\n",
       "      <td>0.266661</td>\n",
       "      <td>0.270514</td>\n",
       "      <td>0.390527</td>\n",
       "      <td>0.390527</td>\n",
       "      <td>0.030565</td>\n",
       "      <td>0.030269</td>\n",
       "      <td>0.069334</td>\n",
       "      <td>0.179364</td>\n",
       "      <td>0.179364</td>\n",
       "    </tr>\n",
       "    <tr>\n",
       "      <th>3</th>\n",
       "      <td>3</td>\n",
       "      <td>DEH1_2024</td>\n",
       "      <td>2369/LH123HT</td>\n",
       "      <td>NaN</td>\n",
       "      <td>0.5</td>\n",
       "      <td>0.5</td>\n",
       "      <td>1.0</td>\n",
       "      <td>0.5</td>\n",
       "      <td>1.0</td>\n",
       "      <td>1.0</td>\n",
       "      <td>...</td>\n",
       "      <td>0.114556</td>\n",
       "      <td>0.266661</td>\n",
       "      <td>0.270514</td>\n",
       "      <td>0.390527</td>\n",
       "      <td>0.390527</td>\n",
       "      <td>0.030565</td>\n",
       "      <td>0.030269</td>\n",
       "      <td>0.069334</td>\n",
       "      <td>0.179364</td>\n",
       "      <td>0.179364</td>\n",
       "    </tr>\n",
       "    <tr>\n",
       "      <th>4</th>\n",
       "      <td>4</td>\n",
       "      <td>DEH1_2024</td>\n",
       "      <td>2FACC/PHP02</td>\n",
       "      <td>NaN</td>\n",
       "      <td>1.0</td>\n",
       "      <td>0.5</td>\n",
       "      <td>0.5</td>\n",
       "      <td>1.0</td>\n",
       "      <td>0.0</td>\n",
       "      <td>0.0</td>\n",
       "      <td>...</td>\n",
       "      <td>0.114556</td>\n",
       "      <td>0.266661</td>\n",
       "      <td>0.270514</td>\n",
       "      <td>0.390527</td>\n",
       "      <td>0.390527</td>\n",
       "      <td>0.030565</td>\n",
       "      <td>0.030269</td>\n",
       "      <td>0.069334</td>\n",
       "      <td>0.179364</td>\n",
       "      <td>0.179364</td>\n",
       "    </tr>\n",
       "  </tbody>\n",
       "</table>\n",
       "<p>5 rows × 2602 columns</p>\n",
       "</div>"
      ],
      "text/plain": [
       "   INDEX        Env        Hybrid  Yield_Mg_ha  S1_1007742  S1_1020677  \\\n",
       "0      0  DEH1_2024  01CSI6/LH287          NaN         0.5         1.0   \n",
       "1      1  DEH1_2024  01DIB2/LH287          NaN         1.0         1.0   \n",
       "2      2  DEH1_2024  01DIB2/PHP02          NaN         1.0         0.5   \n",
       "3      3  DEH1_2024  2369/LH123HT          NaN         0.5         0.5   \n",
       "4      4  DEH1_2024   2FACC/PHP02          NaN         1.0         0.5   \n",
       "\n",
       "   S1_2018002  S1_2275970  S1_2800964  S1_2811950  ...  SWmm_pFlaFlw_5  \\\n",
       "0         1.0         1.0         1.0         1.0  ...        0.114556   \n",
       "1         1.0         1.0         0.5         0.5  ...        0.114556   \n",
       "2         0.5         1.0         0.0         0.0  ...        0.114556   \n",
       "3         1.0         0.5         1.0         1.0  ...        0.114556   \n",
       "4         0.5         1.0         0.0         0.0  ...        0.114556   \n",
       "\n",
       "   SWmm_pEnGMat_8  SWmm_pEmeEnJ_9  SWmm_pEmeEnJ_10  SWmm_pEnGMat_10     LL__1  \\\n",
       "0        0.266661        0.270514         0.390527         0.390527  0.030565   \n",
       "1        0.266661        0.270514         0.390527         0.390527  0.030565   \n",
       "2        0.266661        0.270514         0.390527         0.390527  0.030565   \n",
       "3        0.266661        0.270514         0.390527         0.390527  0.030565   \n",
       "4        0.266661        0.270514         0.390527         0.390527  0.030565   \n",
       "\n",
       "      LL__4     LL__6     LL__7     LL__8  \n",
       "0  0.030269  0.069334  0.179364  0.179364  \n",
       "1  0.030269  0.069334  0.179364  0.179364  \n",
       "2  0.030269  0.069334  0.179364  0.179364  \n",
       "3  0.030269  0.069334  0.179364  0.179364  \n",
       "4  0.030269  0.069334  0.179364  0.179364  \n",
       "\n",
       "[5 rows x 2602 columns]"
      ]
     },
     "execution_count": 14,
     "metadata": {},
     "output_type": "execute_result"
    }
   ],
   "source": [
    "X_test.head()"
   ]
  },
  {
   "cell_type": "code",
   "execution_count": 8,
   "id": "718d26c6",
   "metadata": {},
   "outputs": [],
   "source": [
    "# save X_test, y_test\n",
    "X_test.to_csv('../data/maize_data_2014-2023_vs_2024/X_test.csv', index=False)\n",
    "y_test.to_csv('../data/maize_data_2014-2023_vs_2024/y_test.csv', index=False)"
   ]
  },
  {
   "cell_type": "code",
   "execution_count": null,
   "id": "334aaba5",
   "metadata": {},
   "outputs": [],
   "source": []
  }
 ],
 "metadata": {
  "kernelspec": {
   "display_name": "dl-base",
   "language": "python",
   "name": "python3"
  },
  "language_info": {
   "codemirror_mode": {
    "name": "ipython",
    "version": 3
   },
   "file_extension": ".py",
   "mimetype": "text/x-python",
   "name": "python",
   "nbconvert_exporter": "python",
   "pygments_lexer": "ipython3",
   "version": "3.12.3"
  }
 },
 "nbformat": 4,
 "nbformat_minor": 5
}
