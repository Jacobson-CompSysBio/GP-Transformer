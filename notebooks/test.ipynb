{
 "cells": [
  {
   "cell_type": "code",
   "execution_count": 1,
   "metadata": {},
   "outputs": [
    {
     "name": "stderr",
     "output_type": "stream",
     "text": [
      "/home/pkr/miniforge3/lib/python3.12/site-packages/tqdm/auto.py:21: TqdmWarning: IProgress not found. Please update jupyter and ipywidgets. See https://ipywidgets.readthedocs.io/en/stable/user_install.html\n",
      "  from .autonotebook import tqdm as notebook_tqdm\n"
     ]
    }
   ],
   "source": [
    "import sys, os, glob\n",
    "import torch\n",
    "import torch.nn as nn\n",
    "import torch.nn.functional as F\n",
    "\n",
    "from transformers import (\n",
    "    AutoModel,\n",
    "    AutoModelForSequenceClassification,\n",
    "    AutoModelForMaskedLM,\n",
    "    AutoTokenizer\n",
    ")\n",
    "from transformers.models.bert.configuration_bert import BertConfig\n",
    "from DGXutils import GetFileNames, GetLowestGPU\n",
    "from importlib import reload\n",
    "\n",
    "sys.path.append('../')\n",
    "\n",
    "import utils.GPTransformer as GPTransformer"
   ]
  },
  {
   "cell_type": "code",
   "execution_count": 2,
   "metadata": {},
   "outputs": [],
   "source": [
    "device = GetLowestGPU()\n",
    "model_path = 'zhangtaolab/dnabert2-conservation'\n",
    "\n",
    "# load tokenizer\n",
    "tokenizer = AutoTokenizer.from_pretrained(f\"{model_path}\", trust_remote_code=True)"
   ]
  },
  {
   "cell_type": "code",
   "execution_count": 3,
   "metadata": {},
   "outputs": [
    {
     "name": "stderr",
     "output_type": "stream",
     "text": [
      "/home/pkr/.cache/huggingface/modules/transformers_modules/zhangtaolab/dnabert2-conservation/5babb4ae2a106150ab00cb4487d95f83293b9dc6/bert_layers.py:126: UserWarning: Unable to import Triton; defaulting MosaicBERT attention implementation to pytorch (this will reduce throughput when using this model).\n",
      "  warnings.warn(\n"
     ]
    }
   ],
   "source": [
    "reload(GPTransformer)\n",
    "# load model\n",
    "model = GPTransformer.GPTransformer(model_path,\n",
    "                                    n_mlp=0)\n",
    "model = model.to(device)"
   ]
  },
  {
   "cell_type": "code",
   "execution_count": 7,
   "metadata": {},
   "outputs": [],
   "source": [
    "# load hf model\n",
    "config = BertConfig.from_pretrained(f\"{model_path}\")\n",
    "hf_model = AutoModelForSequenceClassification.from_pretrained(f'{model_path}', \n",
    "                                                                    trust_remote_code=True,\n",
    "                                                                    config=config).to(device)"
   ]
  },
  {
   "cell_type": "code",
   "execution_count": 6,
   "metadata": {},
   "outputs": [
    {
     "name": "stdout",
     "output_type": "stream",
     "text": [
      "tensor([[   1,    5,  194,   32,  757, 1239, 2092,  294,   24,  359,   88,   93,\n",
      "           32,   75,   77,   19,    2]], device='cuda:0')\n"
     ]
    }
   ],
   "source": [
    "dna = \"ACGTAGCATCGGATCTATCTATCGACACTTGGTTATCGATCTACGAGCATCTCGTTAGC\"\n",
    "inputs = tokenizer(dna, return_tensors=\"pt\").to(device)\n",
    "print(inputs['input_ids'])"
   ]
  },
  {
   "cell_type": "code",
   "execution_count": 10,
   "metadata": {},
   "outputs": [
    {
     "name": "stdout",
     "output_type": "stream",
     "text": [
      "tensor([[1, 1, 1, 1, 1, 1, 1, 1, 1, 1, 1, 1, 1, 1, 1, 1, 1]], device='cuda:0')\n"
     ]
    }
   ],
   "source": [
    "print(inputs[\"attention_mask\"])"
   ]
  },
  {
   "cell_type": "code",
   "execution_count": 8,
   "metadata": {},
   "outputs": [],
   "source": [
    "pheno = model(inputs['input_ids'], inputs['attention_mask'])"
   ]
  },
  {
   "cell_type": "code",
   "execution_count": 9,
   "metadata": {},
   "outputs": [
    {
     "data": {
      "text/plain": [
       "torch.Size([1, 4])"
      ]
     },
     "execution_count": 9,
     "metadata": {},
     "output_type": "execute_result"
    }
   ],
   "source": [
    "pheno.shape"
   ]
  },
  {
   "cell_type": "code",
   "execution_count": null,
   "metadata": {},
   "outputs": [],
   "source": [
    "# non-customizable options\n",
    "iter_update = 'train loss {1:.4e}, val loss {2:.4e}\\r'\n",
    "best_val_loss = None # initialize best validation loss\n",
    "last_improved = 0 # start early stopping counter\n",
    "iter_num = 0 # initialize iteration counter\n",
    "t0 = time.time() # start timer\n",
    "\n",
    "# training loop\n",
    "# refresh log\n",
    "with open(log_path, 'w') as f: \n",
    "    f.write(f'iter_num,train_loss,val_loss\\n')\n",
    "\n",
    "# keep training until break\n",
    "while True:\n",
    "\n",
    "    # clear print output\n",
    "    clear_output(wait=True)\n",
    "\n",
    "    if best_val_loss is not None:\n",
    "        print('---------------------------------------\\n',\n",
    "            f'Iteration: {iter_num} | Best Loss: {best_val_loss:.4e}\\n', \n",
    "            '---------------------------------------', sep = '')\n",
    "    else:\n",
    "        print('-------------\\n',\n",
    "            f'Iteration: {iter_num}\\n', \n",
    "            '-------------', sep = '')\n",
    "\n",
    "    #\n",
    "    # checkpoint\n",
    "    #\n",
    "\n",
    "    # shuffle dataloaders\n",
    "    train_loader = DataLoader(\n",
    "        train_generator, \n",
    "        batch_size=batch_size, \n",
    "        shuffle=True,\n",
    "        num_workers=n_workers,\n",
    "        pin_memory=True)\n",
    "    \n",
    "    val_loader = DataLoader(\n",
    "        val_generator, \n",
    "        batch_size=batch_size, \n",
    "        shuffle=True,\n",
    "        num_workers=n_workers,\n",
    "        pin_memory=True)\n",
    "\n",
    "    # estimate loss\n",
    "    model.eval()\n",
    "    with torch.no_grad():\n",
    "        train_loss, val_loss = 0, 0\n",
    "        with tqdm(total=batches_per_eval, desc=' Eval') as pbar:\n",
    "            for (xbt, ybt), (xbv, ybv) in zip(train_loader, val_loader):\n",
    "                xbt, ybt = xbt.to(device), ybt.to(device)\n",
    "                xbv, ybv = xbv.to(device), ybv.to(device)\n",
    "                train_loss += loss_function(model(xbt), ybt).item()\n",
    "                val_loss += loss_function(model(xbv), ybv).item()\n",
    "                pbar.update(1)\n",
    "                if pbar.n == pbar.total:\n",
    "                    break\n",
    "        train_loss /= batches_per_eval\n",
    "        val_loss /= batches_per_eval\n",
    "    model.train()\n",
    "\n",
    "    # update user\n",
    "    print(iter_update.format(iter_num, train_loss, val_loss)) \n",
    "\n",
    "    # update log\n",
    "    with open(log_path, 'a') as f: \n",
    "        f.write(f'{iter_num},{train_loss},{val_loss}\\n')\n",
    "\n",
    "    # checkpoint model\n",
    "    if iter_num > 0:\n",
    "        checkpoint = {\n",
    "            'model': model.state_dict(),\n",
    "            'optimizer': optimizer.state_dict(),\n",
    "            'kwargs': model_kwargs,\n",
    "            'iter_num': iter_num,\n",
    "            'best_val_loss': best_val_loss,\n",
    "            'train_ids': train_idx,\n",
    "            'val_ids': val_idx,\n",
    "        }\n",
    "        torch.save(checkpoint, chckpnt_path.format(iter_num))\n",
    "\n",
    "    # book keeping\n",
    "    if best_val_loss is None:\n",
    "        best_val_loss = val_loss\n",
    "\n",
    "    if iter_num > 0:\n",
    "        if val_loss < best_val_loss:\n",
    "            best_val_loss = val_loss\n",
    "            last_improved = 0\n",
    "            print(f'*** validation loss improved: {best_val_loss:.4e} ***')\n",
    "        else:\n",
    "            last_improved += 1\n",
    "            print(f'validation has not improved in {last_improved} steps')\n",
    "        if last_improved > early_stop:\n",
    "            print()\n",
    "            print(f'*** no improvement for {early_stop} steps, stopping ***')\n",
    "            break\n",
    "\n",
    "    # --------\n",
    "    # backprop\n",
    "    # --------\n",
    "\n",
    "    # shuffle dataloaders\n",
    "    train_loader = DataLoader(\n",
    "        train_generator, \n",
    "        batch_size=batch_size, \n",
    "        shuffle=True,\n",
    "        num_workers=n_workers,\n",
    "        pin_memory=True)\n",
    "\n",
    "    # iterate over batches\n",
    "    with tqdm(total=eval_interval, desc='Train') as pbar:\n",
    "        for xb, yb in train_loader:\n",
    "\n",
    "            # update the model\n",
    "            xb, yb = xb.to(device), yb.to(device)\n",
    "\n",
    "            loss = loss_function(model(xb), yb)\n",
    "\n",
    "            if torch.isnan(loss):\n",
    "                print('loss is NaN, stopping')\n",
    "                break\n",
    "            \n",
    "            # apply learning rate schedule\n",
    "            lr = get_lr(it = iter_num,\n",
    "                        warmup_iters = warmup_iters, \n",
    "                        lr_decay_iters = lr_decay_iters, \n",
    "                        max_lr = max_lr, \n",
    "                        min_lr = min_lr)\n",
    "            \n",
    "            for param_group in optimizer.param_groups:\n",
    "                param_group['lr'] = lr\n",
    "            \n",
    "            loss.backward()\n",
    "\n",
    "            optimizer.step()\n",
    "            optimizer.zero_grad(set_to_none=True)\n",
    "\n",
    "            # update book keeping\n",
    "            pbar.update(1)\n",
    "            iter_num += 1\n",
    "            if pbar.n == pbar.total:\n",
    "                break\n",
    "\n",
    "    # break once hitting max_iters\n",
    "    if iter_num > max_iters:\n",
    "        print(f'maximum iterations reached: {max_iters}')\n",
    "        break\n",
    "\n"
   ]
  }
 ],
 "metadata": {
  "kernelspec": {
   "display_name": ".venv",
   "language": "python",
   "name": "python3"
  },
  "language_info": {
   "codemirror_mode": {
    "name": "ipython",
    "version": 3
   },
   "file_extension": ".py",
   "mimetype": "text/x-python",
   "name": "python",
   "nbconvert_exporter": "python",
   "pygments_lexer": "ipython3",
   "version": "3.12.7"
  }
 },
 "nbformat": 4,
 "nbformat_minor": 2
}
