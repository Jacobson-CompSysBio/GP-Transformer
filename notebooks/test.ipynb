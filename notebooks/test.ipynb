{
 "cells": [
  {
   "cell_type": "code",
   "execution_count": 1,
   "metadata": {},
   "outputs": [],
   "source": [
    "import sys, os, glob\n",
    "import torch\n",
    "import torch.nn as nn\n",
    "import torch.nn.Functional as F\n",
    "\n",
    "from transformers import AutoModelForMaskedLM, AutoTokenizer"
   ]
  },
  {
   "cell_type": "code",
   "execution_count": null,
   "metadata": {},
   "outputs": [],
   "source": [
    "odel_name = 'plant-dnabert-BPE'\n",
    "# load model and tokenizer\n",
    "model = AutoModelForMaskedLM.from_pretrained(f'zhangtaolab/{model_name}', trust_remote_code=True)\n",
    "tokenizer = AutoTokenizer.from_pretrained(f'zhangtaolab/{model_name}', trust_remote_code=True)\n",
    "\n",
    "# example sequence and tokenization\n",
    "sequences = ['ATATACGGCCGNC','GGGTATCGCTTCCGAC']\n",
    "tokens = tokenizer(sequences,padding=\"longest\")['input_ids']\n",
    "print(f\"Tokenzied sequence: {tokenizer.batch_decode(tokens)}\")\n",
    "\n",
    "# inference\n",
    "device = torch.device('cuda') if torch.cuda.is_available() else torch.device('cpu')\n",
    "model.to(device)\n",
    "inputs = tokenizer(sequences, truncation=True, padding='max_length', max_length=512, \n",
    "                   return_tensors=\"pt\")\n",
    "inputs = {k: v.to(device) for k, v in inputs.items()}\n",
    "outs = model(\n",
    "    **inputs,\n",
    "    output_hidden_states=True\n",
    ")\n",
    "\n",
    "# get the final layer embeddings and prediction logits\n",
    "embeddings = outs['hidden_states'][-1].detach().numpy()\n",
    "logits = outs['logits'].detach().numpy()"
   ]
  },
  {
   "cell_type": "code",
   "execution_count": null,
   "metadata": {},
   "outputs": [],
   "source": []
  }
 ],
 "metadata": {
  "kernelspec": {
   "display_name": ".venv",
   "language": "python",
   "name": "python3"
  },
  "language_info": {
   "codemirror_mode": {
    "name": "ipython",
    "version": 3
   },
   "file_extension": ".py",
   "mimetype": "text/x-python",
   "name": "python",
   "nbconvert_exporter": "python",
   "pygments_lexer": "ipython3",
   "version": "3.9.5"
  }
 },
 "nbformat": 4,
 "nbformat_minor": 2
}
